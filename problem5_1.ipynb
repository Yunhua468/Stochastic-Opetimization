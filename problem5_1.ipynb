{
  "nbformat": 4,
  "nbformat_minor": 0,
  "metadata": {
    "colab": {
      "name": "problem5.1.ipynb",
      "provenance": [],
      "authorship_tag": "ABX9TyMmEJpTzIn1GHSGxg1xuYoc",
      "include_colab_link": true
    },
    "kernelspec": {
      "name": "python3",
      "display_name": "Python 3"
    }
  },
  "cells": [
    {
      "cell_type": "markdown",
      "metadata": {
        "id": "view-in-github",
        "colab_type": "text"
      },
      "source": [
        "<a href=\"https://colab.research.google.com/github/Yunhua468/Stochastic-Opetimization/blob/franz/problem5_1.ipynb\" target=\"_parent\"><img src=\"https://colab.research.google.com/assets/colab-badge.svg\" alt=\"Open In Colab\"/></a>"
      ]
    },
    {
      "cell_type": "code",
      "metadata": {
        "id": "mAU5Ox6H_M7r"
      },
      "source": [
        "import random\n",
        "import numpy as np\n",
        "import scipy as sp\n",
        "import matplotlib.pyplot as plt\n",
        "%matplotlib inline"
      ],
      "execution_count": 1,
      "outputs": []
    },
    {
      "cell_type": "code",
      "metadata": {
        "id": "yvgTxaiFazWH"
      },
      "source": [
        "np.random.seed(42)\n",
        "random.seed(42)"
      ],
      "execution_count": 2,
      "outputs": []
    },
    {
      "cell_type": "markdown",
      "metadata": {
        "id": "seJE1yojAcXJ"
      },
      "source": [
        "$$Y_n = \\alpha - \\frac{1}{N}\\sum_{k=1}^{N}\\mathbb{P}(W_{k}^{(n)}(\\theta_{n}) > w)(\\theta_{n})$$"
      ]
    },
    {
      "cell_type": "code",
      "metadata": {
        "id": "o0pUkAs3C4dT",
        "outputId": "12bf5707-ec7f-4467-f66c-8538309da981",
        "colab": {
          "base_uri": "https://localhost:8080/",
          "height": 34
        }
      },
      "source": [
        "np.random.randn()"
      ],
      "execution_count": 3,
      "outputs": [
        {
          "output_type": "execute_result",
          "data": {
            "text/plain": [
              "0.4967141530112327"
            ]
          },
          "metadata": {
            "tags": []
          },
          "execution_count": 3
        }
      ]
    },
    {
      "cell_type": "code",
      "metadata": {
        "id": "kebINxb1_f_o"
      },
      "source": [
        "def P(theta, w=0.8, std=0.3, samples=10000):\n",
        "  s = 0\n",
        "  for i in range(samples):\n",
        "    rnum = np.random.randn()*std + theta\n",
        "    if rnum > w:\n",
        "      s += 1\n",
        "  return s / samples"
      ],
      "execution_count": 4,
      "outputs": []
    },
    {
      "cell_type": "code",
      "metadata": {
        "id": "N09WvGllDtQv",
        "outputId": "207db9cc-69c1-42b7-f380-ed4583e7fcce",
        "colab": {
          "base_uri": "https://localhost:8080/",
          "height": 34
        }
      },
      "source": [
        "P(0.5)"
      ],
      "execution_count": 5,
      "outputs": [
        {
          "output_type": "execute_result",
          "data": {
            "text/plain": [
              "0.1593"
            ]
          },
          "metadata": {
            "tags": []
          },
          "execution_count": 5
        }
      ]
    },
    {
      "cell_type": "code",
      "metadata": {
        "id": "arXPc9-qDzEx"
      },
      "source": [
        "theta = 0.3\n",
        "alpha = 0.6\n",
        "N = 5\n",
        "w = 0.8\n",
        "epsilon = 0.01\n",
        "num_iter = 1000\n",
        "thetas = []\n",
        "\n",
        "for i in range(num_iter):\n",
        "  P_est = 0\n",
        "  for k in range(N):\n",
        "    P_est = P_est + P(theta, w=0.8)\n",
        "  theta += epsilon*(alpha - (1/N)*P_est)\n",
        "  thetas.append(theta)"
      ],
      "execution_count": 6,
      "outputs": []
    },
    {
      "cell_type": "code",
      "metadata": {
        "id": "4oASToy5WhqN",
        "outputId": "0f6a9b49-aa53-4858-8740-13bf7f3fe00c",
        "colab": {
          "base_uri": "https://localhost:8080/",
          "height": 515
        }
      },
      "source": [
        "plt.figure(figsize=(16, 8))\n",
        "plt.xlabel('iteration')\n",
        "plt.ylabel('theta')\n",
        "plt.plot(thetas)"
      ],
      "execution_count": 7,
      "outputs": [
        {
          "output_type": "execute_result",
          "data": {
            "text/plain": [
              "[<matplotlib.lines.Line2D at 0x7f05c80b67f0>]"
            ]
          },
          "metadata": {
            "tags": []
          },
          "execution_count": 7
        },
        {
          "output_type": "display_data",
          "data": {
            "image/png": "[encoded data removed]",
            "text/plain": [
              "<Figure size 1152x576 with 1 Axes>"
            ]
          },
          "metadata": {
            "tags": [],
            "needs_background": "light"
          }
        }
      ]
    },
    {
      "cell_type": "code",
      "metadata": {
        "id": "4LHyNjKMXE2y"
      },
      "source": [
        ""
      ],
      "execution_count": 7,
      "outputs": []
    }
  ]
}