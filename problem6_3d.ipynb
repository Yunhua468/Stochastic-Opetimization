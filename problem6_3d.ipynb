{
  "nbformat": 4,
  "nbformat_minor": 0,
  "metadata": {
    "colab": {
      "name": "problem6.3d.ipynb",
      "provenance": [],
      "authorship_tag": "ABX9TyONvsZbllFW00Dsdl+cf5Ut",
      "include_colab_link": true
    },
    "kernelspec": {
      "name": "python3",
      "display_name": "Python 3"
    }
  },
  "cells": [
    {
      "cell_type": "markdown",
      "metadata": {
        "id": "view-in-github",
        "colab_type": "text"
      },
      "source": [
        "<a href=\"https://colab.research.google.com/github/Yunhua468/Stochastic-Opetimization/blob/franz/problem6_3d.ipynb\" target=\"_parent\"><img src=\"https://colab.research.google.com/assets/colab-badge.svg\" alt=\"Open In Colab\"/></a>"
      ]
    },
    {
      "cell_type": "code",
      "metadata": {
        "id": "OcROL0J4j7lj"
      },
      "source": [
        "import os\n",
        "import random \n",
        "import numpy as np\n",
        "import matplotlib.pyplot as plt\n",
        "%matplotlib inline"
      ],
      "execution_count": 15,
      "outputs": []
    },
    {
      "cell_type": "code",
      "metadata": {
        "id": "0QqmcInNkISM"
      },
      "source": [
        "random.seed(42)\n",
        "np.random.seed(42)"
      ],
      "execution_count": 16,
      "outputs": []
    },
    {
      "cell_type": "code",
      "metadata": {
        "id": "qX5CuVWVl3vN"
      },
      "source": [
        "s = 4.3\n",
        "d = 5"
      ],
      "execution_count": 17,
      "outputs": []
    },
    {
      "cell_type": "code",
      "metadata": {
        "id": "RHshHtU-kEww"
      },
      "source": [
        "def D(theta):\n",
        "  return theta**(-d)"
      ],
      "execution_count": 18,
      "outputs": []
    },
    {
      "cell_type": "code",
      "metadata": {
        "id": "RlquwVaVku1w"
      },
      "source": [
        "def S(theta):\n",
        "  return theta**s"
      ],
      "execution_count": 19,
      "outputs": []
    },
    {
      "cell_type": "code",
      "metadata": {
        "id": "vD1reCTelQHX"
      },
      "source": [
        "epsilon = 0.0005\n",
        "theta = 0.5\n",
        "thetas = []\n",
        "for i in range(1000):\n",
        "  xi = np.random.lognormal(mean=S(theta), sigma=1.0)\n",
        "  Yn = D(theta) - xi\n",
        "  theta = theta + epsilon*Yn\n",
        "  thetas.append(theta)"
      ],
      "execution_count": 20,
      "outputs": []
    },
    {
      "cell_type": "code",
      "metadata": {
        "id": "77ALfplKlSjo",
        "outputId": "cd6bccb8-3176-4889-a1eb-e6809153e30a",
        "colab": {
          "base_uri": "https://localhost:8080/",
          "height": 282
        }
      },
      "source": [
        "plt.plot(thetas)"
      ],
      "execution_count": 21,
      "outputs": [
        {
          "output_type": "execute_result",
          "data": {
            "text/plain": [
              "[<matplotlib.lines.Line2D at 0x7fd7f50830b8>]"
            ]
          },
          "metadata": {
            "tags": []
          },
          "execution_count": 21
        },
        {
          "output_type": "display_data",
          "data": {
            "image/png": "[encoded data removed]",
            "text/plain": [
              "<Figure size 432x288 with 1 Axes>"
            ]
          },
          "metadata": {
            "tags": [],
            "needs_background": "light"
          }
        }
      ]
    },
    {
      "cell_type": "code",
      "metadata": {
        "id": "9z3iY4xlnSG4"
      },
      "source": [
        ""
      ],
      "execution_count": null,
      "outputs": []
    }
  ]
}