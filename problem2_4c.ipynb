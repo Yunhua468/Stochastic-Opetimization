{
  "nbformat": 4,
  "nbformat_minor": 0,
  "metadata": {
    "colab": {
      "name": "problem2.4c.ipynb",
      "provenance": [],
      "collapsed_sections": []
    },
    "kernelspec": {
      "name": "python3",
      "display_name": "Python 3"
    }
  },
  "cells": [
    {
      "cell_type": "code",
      "metadata": {
        "id": "b9CZ7Iukn0Ch",
        "colab_type": "code",
        "colab": {}
      },
      "source": [
        "import math\n",
        "import matplotlib.pyplot as plt\n",
        "%matplotlib inline"
      ],
      "execution_count": null,
      "outputs": []
    },
    {
      "cell_type": "code",
      "metadata": {
        "id": "F807oHMh1tOK",
        "colab_type": "code",
        "colab": {}
      },
      "source": [
        "a = 2.0\n",
        "b = 5.0\n",
        "d = 10.0\n",
        "v1 = 3.0\n",
        "v2 = 1.0\n",
        "epsilon = 0.05\n",
        "\n",
        "theta0 = 10.0"
      ],
      "execution_count": null,
      "outputs": []
    },
    {
      "cell_type": "code",
      "metadata": {
        "id": "jnGW1AM_1fyY",
        "colab_type": "code",
        "colab": {}
      },
      "source": [
        "def J_div(theta):\n",
        "  return (1/v1)*(theta/math.sqrt(theta**2 + a**2)) - (1/v2)*(d-theta)/math.sqrt((d-theta)**2 + b**2)"
      ],
      "execution_count": null,
      "outputs": []
    },
    {
      "cell_type": "code",
      "metadata": {
        "id": "8NuyISA-1oTe",
        "colab_type": "code",
        "colab": {}
      },
      "source": [
        "theta = theta0\n",
        "thetas = [theta0]\n",
        "iter_nums = [0]\n",
        "for i in range(1000):\n",
        "  theta = theta - epsilon*J_div(theta)\n",
        "  thetas.append(theta)\n",
        "  iter_nums.append(i)"
      ],
      "execution_count": null,
      "outputs": []
    },
    {
      "cell_type": "code",
      "metadata": {
        "id": "o84ZoogPiyZD",
        "colab_type": "code",
        "colab": {
          "base_uri": "https://localhost:8080/",
          "height": 260
        },
        "outputId": "f06e8c1d-70c0-412a-ef50-a67269204a3a"
      },
      "source": [
        "plt.figure(figsize=(12, 8))\n",
        "plt.subplot(2, 1, 1)\n",
        "plt.plot(iter_nums, thetas)\n",
        "plt.ylabel('theta')\n",
        "plt.xlabel('iteration')\n",
        "plt.grid()"
      ],
      "execution_count": null,
      "outputs": [
        {
          "output_type": "display_data",
          "data": {
            "image/png": "[encoded data removed]",
            "text/plain": [
              "<Figure size 864x576 with 1 Axes>"
            ]
          },
          "metadata": {
            "tags": [],
            "needs_background": "light"
          }
        }
      ]
    },
    {
      "cell_type": "code",
      "metadata": {
        "id": "N7pJ0QuDCbmy",
        "colab_type": "code",
        "colab": {
          "base_uri": "https://localhost:8080/",
          "height": 34
        },
        "outputId": "b11ae14e-0068-4584-ea0f-619b16a5bd80"
      },
      "source": [
        "print()"
      ],
      "execution_count": null,
      "outputs": [
        {
          "output_type": "stream",
          "text": [
            "\n"
          ],
          "name": "stdout"
        }
      ]
    }
  ]
}